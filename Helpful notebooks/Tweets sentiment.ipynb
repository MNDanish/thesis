{
 "cells": [
  {
   "cell_type": "code",
   "execution_count": 54,
   "id": "74f4d065-80fc-4876-a7d0-0fb8be9ac065",
   "metadata": {
    "tags": []
   },
   "outputs": [
    {
     "name": "stderr",
     "output_type": "stream",
     "text": [
      "[nltk_data] Downloading package stopwords to\n",
      "[nltk_data]     /Users/mndanish/nltk_data...\n",
      "[nltk_data]   Package stopwords is already up-to-date!\n",
      "[nltk_data] Downloading package punkt to /Users/mndanish/nltk_data...\n",
      "[nltk_data]   Package punkt is already up-to-date!\n"
     ]
    },
    {
     "data": {
      "text/plain": [
       "True"
      ]
     },
     "execution_count": 54,
     "metadata": {},
     "output_type": "execute_result"
    }
   ],
   "source": [
    "import pandas as pd\n",
    "import numpy as np\n",
    "import matplotlib.pyplot as plt\n",
    "import re\n",
    "import nltk\n",
    "from nltk.sentiment.vader import SentimentIntensityAnalyzer\n",
    "from nltk.corpus import stopwords\n",
    "from nltk.tokenize import word_tokenize\n",
    "\n",
    "import warnings\n",
    "warnings.filterwarnings(\"ignore\")\n",
    "nltk.download('stopwords')\n",
    "nltk.download('punkt')"
   ]
  },
  {
   "cell_type": "code",
   "execution_count": 55,
   "id": "b45633d6-f288-492e-92af-41f6b107b4a4",
   "metadata": {
    "tags": []
   },
   "outputs": [],
   "source": [
    "tweets = pd.read_csv('Tweet.csv')\n",
    "company_tweet = pd.read_csv('Company_Tweet.csv')\n",
    "\n",
    "tweets = pd.merge(tweets,company_tweet,on='tweet_id',how='inner')"
   ]
  },
  {
   "cell_type": "code",
   "execution_count": 56,
   "id": "b5f4c77d-bc28-414c-ab79-77dcac065fb1",
   "metadata": {
    "tags": []
   },
   "outputs": [],
   "source": [
    "tweets['post_date'] = pd.to_datetime(tweets['post_date'], unit='s')\n",
    "tweets['date'] = pd.to_datetime(tweets['post_date'].apply(lambda date: date.date()))"
   ]
  },
  {
   "cell_type": "code",
   "execution_count": 57,
   "id": "75a93711-ccbb-4c81-a866-aaf06a673e42",
   "metadata": {
    "tags": []
   },
   "outputs": [],
   "source": [
    "tweets.drop(columns = ['tweet_id', 'writer', 'post_date', 'comment_num', 'retweet_num', 'like_num'], inplace = True)"
   ]
  },
  {
   "cell_type": "code",
   "execution_count": 58,
   "id": "eae0933c-e2f4-46c8-a830-07fa1912e1fc",
   "metadata": {
    "tags": []
   },
   "outputs": [],
   "source": [
    "def remove_stopwords(text):\n",
    "    stop_words = set(stopwords.words('english'))\n",
    "    words = word_tokenize(text)\n",
    "    filtered_words = [word for word in words if word.lower() not in stop_words]\n",
    "    return ' '.join(filtered_words)"
   ]
  },
  {
   "cell_type": "code",
   "execution_count": 59,
   "id": "117569c3-e40b-4312-b962-9b2e643ca0b4",
   "metadata": {
    "tags": []
   },
   "outputs": [],
   "source": [
    "tweets['body'] = tweets['body'].str.lower()\n",
    "tweets['body'] = tweets['body'].apply(lambda x: re.sub(r'https?:\\/\\/\\S+', '', x))\n",
    "tweets['body'] = tweets['body'].apply(lambda x: re.sub(r\"www\\.[a-z]?\\.?(com)+|[a-z]+\\.(com)\", '', x))\n",
    "tweets['body'] = tweets['body'].apply(lambda x: re.sub(r'{link}', '', x))\n",
    "tweets['body'] = tweets['body'].apply(lambda x: re.sub(r\"\\[video\\]\", '', x))\n",
    "tweets['body'] = tweets['body'].apply(lambda x: re.sub(r'&[a-z]+;', '', x))\n",
    "tweets['body'] = tweets['body'].apply(lambda x: re.sub(r\"[^a-z\\s\\(\\-:\\)\\\\\\/\\];='#]\", '', x))\n",
    "tweets['body'] = tweets['body'].apply(lambda x: re.sub(r'@mention', '', x))\n",
    "tweets['body'] = tweets['body'].apply(lambda x: re.sub(r'\\B#\\w\\w+', '', x))\n",
    "tweets['body'] = tweets['body'].apply(lambda x: remove_stopwords(x))"
   ]
  },
  {
   "cell_type": "code",
   "execution_count": 60,
   "id": "6dae8b6f-4b54-4b5e-93d9-52367fb7d415",
   "metadata": {
    "tags": []
   },
   "outputs": [],
   "source": [
    "for i in range(len(tweets)):\n",
    "    sentence = tweets.at[i, 'body']\n",
    "    sentiment = SentimentIntensityAnalyzer().polarity_scores(sentence)\n",
    "    tweets.at[i, 'sentiment_score'] = sentiment['compound']"
   ]
  },
  {
   "cell_type": "code",
   "execution_count": 61,
   "id": "c44d56d6-e66d-4c0a-935d-26bc81dbaeaa",
   "metadata": {
    "tags": []
   },
   "outputs": [],
   "source": [
    "tweets.to_csv('tweets_sentiment.csv', index=False)"
   ]
  },
  {
   "cell_type": "code",
   "execution_count": null,
   "id": "865028b3-e621-4fe7-9cf7-5fa328004aa3",
   "metadata": {},
   "outputs": [],
   "source": []
  }
 ],
 "metadata": {
  "kernelspec": {
   "display_name": "Python 3 (ipykernel)",
   "language": "python",
   "name": "python3"
  },
  "language_info": {
   "codemirror_mode": {
    "name": "ipython",
    "version": 3
   },
   "file_extension": ".py",
   "mimetype": "text/x-python",
   "name": "python",
   "nbconvert_exporter": "python",
   "pygments_lexer": "ipython3",
   "version": "3.10.9"
  }
 },
 "nbformat": 4,
 "nbformat_minor": 5
}
