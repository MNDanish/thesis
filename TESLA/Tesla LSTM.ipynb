{
 "cells": [
  {
   "cell_type": "code",
   "execution_count": null,
   "metadata": {
    "executionInfo": {
     "elapsed": 8878,
     "status": "ok",
     "timestamp": 1685276539347,
     "user": {
      "displayName": "Danish Madhavan",
      "userId": "00345186342487666241"
     },
     "user_tz": -180
    },
    "id": "pgbsmDZC_dHm"
   },
   "outputs": [],
   "source": [
    "import yfinance as yf\n",
    "import pandas as pd\n",
    "import numpy as np\n",
    "import json\n",
    "import matplotlib.pyplot as plt\n",
    "from datetime import datetime\n",
    "import tensorflow as tf\n",
    "from keras.models import Sequential\n",
    "from keras.layers import Dense\n",
    "from keras.layers import LSTM\n",
    "from keras import callbacks\n",
    "from scipy.stats import wilcoxon, mannwhitneyu\n",
    "from sklearn.preprocessing import MinMaxScaler\n",
    "import math\n",
    "from sklearn.metrics import mean_squared_error, mean_absolute_error"
   ]
  },
  {
   "cell_type": "code",
   "execution_count": null,
   "metadata": {
    "colab": {
     "base_uri": "https://localhost:8080/"
    },
    "executionInfo": {
     "elapsed": 26685,
     "status": "ok",
     "timestamp": 1685276566011,
     "user": {
      "displayName": "Danish Madhavan",
      "userId": "00345186342487666241"
     },
     "user_tz": -180
    },
    "id": "Ok3Ik3Ev_idu",
    "outputId": "71522d05-12c3-4a7f-b77d-7e0ce84e7ac7"
   },
   "outputs": [],
   "source": [
    "from google.colab import drive\n",
    "drive.mount('/content/drive')"
   ]
  },
  {
   "cell_type": "code",
   "execution_count": null,
   "metadata": {
    "id": "ezxtdkSSA4kU"
   },
   "outputs": [],
   "source": [
    "df_tweets = pd.read_csv('/content/drive/My Drive/thesis/datasets/twitter comments/tweets_sentiment.csv')\n",
    "df_news = pd.read_csv('/content/drive/My Drive/thesis/datasets/news articles/news_sentiment_updated2.csv')\n",
    "df_political_news = pd.read_csv('/content/drive/My Drive/thesis/datasets/news articles/political_news_sentiment.csv')"
   ]
  },
  {
   "cell_type": "code",
   "execution_count": null,
   "metadata": {
    "id": "Tu1kRMf4BCpX"
   },
   "outputs": [],
   "source": [
    "company_ticker = 'TSLA'\n",
    "df_tweets.drop(columns='body', inplace=True)\n",
    "df_tweets = df_tweets[df_tweets['ticker_symbol'] == company_ticker].reset_index(drop=True)\n",
    "df_news = df_news[df_news['Company'] == 'Tesla'].reset_index(drop=True)"
   ]
  },
  {
   "cell_type": "code",
   "execution_count": null,
   "metadata": {
    "id": "jh4r_5xtBSm3"
   },
   "outputs": [],
   "source": [
    "dates = df_tweets['date'].unique()\n",
    "avg_sentiment = []\n",
    "tweets_volume = []\n",
    "\n",
    "for date in dates:\n",
    "    temp = df_tweets[df_tweets['date'] == date]\n",
    "    avg_sentiment.append(temp['sentiment_score'].mean())\n",
    "    tweets_volume.append(len(temp))\n",
    "  \n",
    "df_tweet_scores = pd.DataFrame({'Date':dates, 'Avg_sentiment_tweets':avg_sentiment, '# tweets' : tweets_volume})"
   ]
  },
  {
   "cell_type": "code",
   "execution_count": null,
   "metadata": {
    "id": "pAnKQcf2BUea"
   },
   "outputs": [],
   "source": [
    "df_news['Sentiment'] = df_news['Sentiment'].map({'positive': 1, 'neutral': 0, 'negative': -1})\n",
    "\n",
    "dates = df_news['Date'].unique()\n",
    "avg_sentiment = []\n",
    "pos_count = []\n",
    "neu_count = []\n",
    "neg_count = []\n",
    "\n",
    "\n",
    "for date in dates:\n",
    "    temp = df_news[df_news['Date'] == date]\n",
    "    avg_sentiment.append(temp['Sentiment'].mean())\n",
    "    pos_count.append(len(temp[temp['Sentiment'] == 1]))\n",
    "    neu_count.append(len(temp[temp['Sentiment'] == 0]))\n",
    "    neg_count.append(len(temp[temp['Sentiment'] == -1]))\n",
    "\n",
    "df_news_scores = pd.DataFrame({'Date':dates, 'Avg_sentiment_news':avg_sentiment, '# Positive news' : pos_count, \n",
    "                               '# Neutral news' : neu_count, '# Negative news' : neg_count})"
   ]
  },
  {
   "cell_type": "code",
   "execution_count": null,
   "metadata": {
    "id": "rHCspjBKCSiE"
   },
   "outputs": [],
   "source": [
    "df_political_news['Sentiment'] = df_political_news['Sentiment'].map({'Positive': 1, 'Neutral': 0, 'Negative': -1})\n",
    "\n",
    "dates = df_political_news['Date'].unique()\n",
    "avg_sentiment = []\n",
    "pos_count = []\n",
    "neu_count = []\n",
    "neg_count = []\n",
    "\n",
    "\n",
    "for date in dates:\n",
    "    temp = df_political_news[df_political_news['Date'] == date]\n",
    "    avg_sentiment.append(temp['Sentiment'].mean())\n",
    "    pos_count.append(len(temp[temp['Sentiment'] == 1]))\n",
    "    neu_count.append(len(temp[temp['Sentiment'] == 0]))\n",
    "    neg_count.append(len(temp[temp['Sentiment'] == -1]))\n",
    "\n",
    "df_political_news_scores = pd.DataFrame({'Date':dates, 'Avg_sentiment_polit_news':avg_sentiment, '# Positive polit_news' : pos_count, \n",
    "                               '# Neutral polit_news' : neu_count, '# Negative polit_news' : neg_count})"
   ]
  },
  {
   "cell_type": "code",
   "execution_count": null,
   "metadata": {
    "id": "-Y9PXnXgOrc9"
   },
   "outputs": [],
   "source": [
    "stock = yf.Ticker(company_ticker)\n",
    "\n",
    "start = min(df_tweet_scores['Date'])\n",
    "end = max(df_tweet_scores['Date'])\n",
    "\n",
    "df = stock.history(start=pd.to_datetime(start).date(), end=pd.to_datetime(end).date())"
   ]
  },
  {
   "cell_type": "code",
   "execution_count": null,
   "metadata": {
    "colab": {
     "base_uri": "https://localhost:8080/",
     "height": 316
    },
    "executionInfo": {
     "elapsed": 349,
     "status": "ok",
     "timestamp": 1685105063103,
     "user": {
      "displayName": "Danish Madhavan",
      "userId": "00345186342487666241"
     },
     "user_tz": -180
    },
    "id": "vPckj1OgOrhb",
    "outputId": "955bc6fd-da09-427b-ec02-7d5c02f7ae32"
   },
   "outputs": [],
   "source": [
    "df['Close'].plot(figsize=(6,3))"
   ]
  },
  {
   "cell_type": "code",
   "execution_count": null,
   "metadata": {
    "id": "fEqXqAyEOrfS"
   },
   "outputs": [],
   "source": [
    "df = df.reset_index()[['Date', 'Close']]\n",
    "df['Date'] = df['Date'].apply(lambda x: datetime.strftime(pd.to_datetime(x), '%Y-%m-%d'))\n",
    "\n",
    "df = pd.merge(df,df_tweet_scores,on='Date',how='inner')\n",
    "df = pd.merge(df,df_news_scores,on='Date',how='inner')\n",
    "df = pd.merge(df,df_political_news_scores,on='Date',how='left')"
   ]
  },
  {
   "cell_type": "code",
   "execution_count": null,
   "metadata": {
    "colab": {
     "base_uri": "https://localhost:8080/"
    },
    "executionInfo": {
     "elapsed": 312,
     "status": "ok",
     "timestamp": 1685105063398,
     "user": {
      "displayName": "Danish Madhavan",
      "userId": "00345186342487666241"
     },
     "user_tz": -180
    },
    "id": "IcQZUunQo7gj",
    "outputId": "0acf804f-51d9-4ba6-be54-2a248fad948d"
   },
   "outputs": [],
   "source": [
    "df.fillna(df.mean(), inplace=True)"
   ]
  },
  {
   "cell_type": "code",
   "execution_count": null,
   "metadata": {
    "id": "n01nY2-3Vf2y"
   },
   "outputs": [],
   "source": [
    "def processData(data,lb):\n",
    "    X,Y = [],[]\n",
    "    data = data.to_numpy()\n",
    "    for i in range(len(data)-lb-1):\n",
    "        X.append(data[i:(i+lb),0])\n",
    "        Y.append(data[(i+lb),0])\n",
    "    return np.array(X),np.array(Y)"
   ]
  },
  {
   "cell_type": "code",
   "execution_count": null,
   "metadata": {
    "id": "PZIUKo36Vid-"
   },
   "outputs": [],
   "source": [
    "def processMultiData(data,lb):\n",
    "    X,Y = [],[]\n",
    "    df_as_np = data.to_numpy()\n",
    "    for i in range(len(data)-lb-1):\n",
    "        row = [r for r in df_as_np[i:i+lb]]\n",
    "        X.append(row)\n",
    "        Y.append(df_as_np[i+lb][0])\n",
    "    return np.array(X),np.array(Y)"
   ]
  },
  {
   "cell_type": "code",
   "execution_count": null,
   "metadata": {
    "id": "EpBDOIzlRzA1"
   },
   "outputs": [],
   "source": [
    "def train_test_data(feature_vector):\n",
    "  lb=10\n",
    "  train_size = 0.80\n",
    "\n",
    "  data = df[feature_vector]\n",
    "  scl = MinMaxScaler()\n",
    "  multi_data = data.copy()\n",
    "  train_data = data[0:int(len(df[['Close']])*0.80)]\n",
    "  scl.fit(train_data)\n",
    "  multi_data[feature_vector] = scl.transform(multi_data[feature_vector])\n",
    "\n",
    "  if len(feature_vector) == 1:\n",
    "    X,y = processData(multi_data,lb)\n",
    "  else:\n",
    "    X,y = processMultiData(multi_data,lb)\n",
    "\n",
    "  X_train,X_test = X[:int(X.shape[0]*train_size)],X[int(X.shape[0]*train_size):]\n",
    "  y_train,y_test = y[:int(y.shape[0]*train_size)],y[int(y.shape[0]*train_size):]  \n",
    "\n",
    "  return X_train, X_test, y_train, y_test, scl"
   ]
  },
  {
   "cell_type": "code",
   "execution_count": null,
   "metadata": {
    "id": "lESGN5ruWzAC"
   },
   "outputs": [],
   "source": [
    "def create_model(X_train, y_train, feature_number, lb=10):\n",
    "    tf.keras.backend.clear_session()\n",
    "    tf.random.set_seed(51)\n",
    "    np.random.seed(51)\n",
    "\n",
    "    model = Sequential()\n",
    "\n",
    "    model.add(LSTM(units=128, dropout=0.2, recurrent_dropout=0.2, \n",
    "                   return_sequences=True, input_shape=(lb, feature_number)))\n",
    "    model.add(LSTM(units=64, dropout=0.2, recurrent_dropout=0.2, return_sequences=True))\n",
    "    model.add(LSTM(units=32, dropout=0.2, recurrent_dropout=0.2))\n",
    "\n",
    "    model.add(Dense(units=16))\n",
    "    model.add(Dense(units=1))\n",
    "\n",
    "    model.compile(optimizer='adam', loss='mse')\n",
    "\n",
    "    earlystopping = callbacks.EarlyStopping(monitor=\"val_loss\", mode=\"min\", \n",
    "                                            patience=25, restore_best_weights=True)\n",
    "    X_train = X_train.reshape((X_train.shape[0], X_train.shape[1], feature_number))\n",
    "\n",
    "    history = model.fit(X_train, y_train, epochs=300, validation_split=0.2,\n",
    "                        shuffle=False, callbacks=[earlystopping])\n",
    "\n",
    "    return model"
   ]
  },
  {
   "cell_type": "code",
   "execution_count": null,
   "metadata": {
    "id": "4657ZQM5X2_M"
   },
   "outputs": [],
   "source": [
    "def make_predictions(X_test, y_test, model, feature_vector, scl):\n",
    "  Xt = model.predict(X_test)\n",
    "  Xt = Xt.flatten()\n",
    "  some_features_actual = {\"Actual\":y_test}\n",
    "  some_features_predicted = {\"Predicted\":Xt}\n",
    "\n",
    "  for i in range(len(feature_vector) - 1):\n",
    "    some_features_actual[\"null_val\" + str(i)] = [0]* len(y_test)\n",
    "    some_features_predicted[\"null_val\" + str(i)] = [0]* len(Xt)\n",
    "  \n",
    "  df_actual = pd.DataFrame(some_features_actual)\n",
    "  df_actual[list(some_features_actual.keys())] = scl.inverse_transform(df_actual[list(some_features_actual.keys())])\n",
    "\n",
    "  df_predicted = pd.DataFrame(some_features_predicted)\n",
    "  df_predicted[list(some_features_predicted.keys())] = scl.inverse_transform(df_predicted[list(some_features_predicted.keys())])\n",
    "\n",
    "  test_rmse = math.sqrt(mean_squared_error(df_actual.Actual,df_predicted.Predicted))\n",
    "  test_mae = mean_absolute_error(df_actual.Actual,df_predicted.Predicted) \n",
    "\n",
    "\n",
    "  y_pred_diff = [list(df_predicted.Predicted)[i] - list(df_predicted.Predicted)[i-1] for i in range(1, len(list(df_predicted.Predicted)))]\n",
    "  y_test_diff = [list(df_actual.Actual)[i] - list(df_actual.Actual)[i-1] for i in range(1, len(list(df_actual.Actual)))]\n",
    "\n",
    "  y_pred_movement = [1 if diff > 0 else 0 for diff in y_pred_diff]\n",
    "  y_test_movement = [1 if diff > 0 else 0 for diff in y_test_diff]\n",
    "\n",
    "  accuracy = sum([1 for pred, actual in zip(y_pred_movement, y_test_movement) if pred == actual]) / len(y_test_movement)\n",
    "\n",
    "  return test_rmse, test_mae, accuracy, list(df_predicted.Predicted)"
   ]
  },
  {
   "cell_type": "code",
   "execution_count": null,
   "metadata": {
    "executionInfo": {
     "elapsed": 14,
     "status": "ok",
     "timestamp": 1685276566012,
     "user": {
      "displayName": "Danish Madhavan",
      "userId": "00345186342487666241"
     },
     "user_tz": -180
    },
    "id": "t7AS8AzxjLzg"
   },
   "outputs": [],
   "source": [
    "#Wilcoxon Signed Rank Test\n",
    "\n",
    "def wilcoxon_signed_rank_test(arr1, arr2, metric):\n",
    "  if metric != 'accuracy':\n",
    "    statistic, p_value = wilcoxon(arr1, arr2, alternative='greater')\n",
    "  else:\n",
    "    statistic, p_value = wilcoxon(arr1, arr2, alternative='less')\n",
    "  alpha = 0.05\n",
    "  if p_value < alpha:\n",
    "    return False #there is a difference\n",
    "  return True #no difference"
   ]
  },
  {
   "cell_type": "code",
   "execution_count": null,
   "metadata": {
    "executionInfo": {
     "elapsed": 6,
     "status": "ok",
     "timestamp": 1685276569841,
     "user": {
      "displayName": "Danish Madhavan",
      "userId": "00345186342487666241"
     },
     "user_tz": -180
    },
    "id": "OhclbBIpklex"
   },
   "outputs": [],
   "source": [
    "#Mann-Whitney U test\n",
    "\n",
    "def mannwhitneyu_test(arr1, arr2, metric):\n",
    "  if metric != 'accuracy':\n",
    "    statistic, p_value = mannwhitneyu(arr1, arr2, alternative='greater')\n",
    "  else:\n",
    "    statistic, p_value = mannwhitneyu(arr1, arr2, alternative='less')\n",
    "  alpha = 0.05\n",
    "  if p_value < alpha:\n",
    "    return False #there is a difference\n",
    "  return True #no difference"
   ]
  },
  {
   "cell_type": "code",
   "execution_count": null,
   "metadata": {
    "id": "XhIgVVNBMTqz"
   },
   "outputs": [],
   "source": [
    "model_results = {\n",
    "    'Prices' : [['Close'], [], [], []],\n",
    "    'Prices + Tweets' : [['Close', 'Avg_sentiment_tweets'], [], [], []],\n",
    "    'Prices + News' : [['Close', 'Avg_sentiment_news', '# Positive news', '# Neutral news', '# Negative news'], [], [], []],\n",
    "    'Prices + Political News' : [['Close', 'Avg_sentiment_polit_news', '# Positive polit_news', '# Neutral polit_news', '# Negative polit_news'], [], [], []],\n",
    "    'Prices + Tweets + News' : [['Close', 'Avg_sentiment_tweets', 'Avg_sentiment_news', '# Positive news', '# Neutral news', '# Negative news'], [], [], []],\n",
    "    'Prices + Tweets + Political News' : [['Close', 'Avg_sentiment_tweets', 'Avg_sentiment_polit_news', '# Positive polit_news', '# Neutral polit_news', '# Negative polit_news'], [], [], []],\n",
    "    'Prices + News + Political News' : [['Close', 'Avg_sentiment_news', '# Positive news', '# Neutral news', '# Negative news', 'Avg_sentiment_polit_news', '# Positive polit_news', '# Neutral polit_news', '# Negative polit_news'], [], [], []],\n",
    "    'Prices + Tweets + News + Political News' : [['Close', 'Avg_sentiment_tweets', 'Avg_sentiment_news', '# Positive news', '# Neutral news', '# Negative news', 'Avg_sentiment_polit_news', '# Positive polit_news', '# Neutral polit_news', '# Negative polit_news'], [], [], []]\n",
    "}"
   ]
  },
  {
   "cell_type": "code",
   "execution_count": null,
   "metadata": {
    "executionInfo": {
     "elapsed": 4,
     "status": "ok",
     "timestamp": 1685276571071,
     "user": {
      "displayName": "Danish Madhavan",
      "userId": "00345186342487666241"
     },
     "user_tz": -180
    },
    "id": "YnOl_wOPmjBO"
   },
   "outputs": [],
   "source": [
    "test_results = {\n",
    "    'RMSE Wilcoxon' : [],\n",
    "    'MAE Wilcoxon' : [],\n",
    "    'Accuracy Wilcoxon' : [],\n",
    "    'RMSE Mann-Whitney' : [],\n",
    "    'MAE Mann-Whitney' : [],\n",
    "    'Accuracy Mann-Whitney' : []\n",
    "}"
   ]
  },
  {
   "cell_type": "code",
   "execution_count": null,
   "metadata": {
    "colab": {
     "background_save": true,
     "base_uri": "https://localhost:8080/"
    },
    "id": "2nl5S1gYEFo-",
    "outputId": "08d8f800-dd8f-404e-9ccb-9e2fc091746d"
   },
   "outputs": [],
   "source": [
    "for i in range(10):\n",
    "  for key, item in model_results.items():\n",
    "    feature_vector = model_results[key][0]\n",
    "    X_train, X_test, y_train, y_test, scl = train_test_data(feature_vector)\n",
    "    model = create_model(X_train, y_train, len(feature_vector))\n",
    "    test_rmse, test_mae, accuracy, predicted_values = make_predictions(X_test, y_test, model, feature_vector, scl)\n",
    "    model_results[key][1].append(round(test_rmse, 2))\n",
    "    model_results[key][2].append(round(test_mae, 2))\n",
    "    model_results[key][3].append(round(accuracy, 2))"
   ]
  },
  {
   "cell_type": "code",
   "execution_count": null,
   "metadata": {
    "colab": {
     "background_save": true
    },
    "id": "jWQfd-LklDOl"
   },
   "outputs": [],
   "source": [
    "with open('/content/drive/My Drive/thesis/notebooks/TESLA/model results/tesla lstm results.json', \"w\") as file:\n",
    "    json.dump(model_results, file)"
   ]
  },
  {
   "cell_type": "code",
   "execution_count": null,
   "metadata": {
    "colab": {
     "base_uri": "https://localhost:8080/"
    },
    "executionInfo": {
     "elapsed": 19,
     "status": "ok",
     "timestamp": 1685276609587,
     "user": {
      "displayName": "Danish Madhavan",
      "userId": "00345186342487666241"
     },
     "user_tz": -180
    },
    "id": "mIPyK4OCifPD",
    "outputId": "53146517-7409-4f88-da9a-079f12a5a396"
   },
   "outputs": [],
   "source": [
    "#test for RMSE values\n",
    "\n",
    "\n",
    "baseline_rmse = model_results['Prices'][1]\n",
    "for key, item in model_results.items():\n",
    "  if key != 'Prices':\n",
    "    wilcoxon_rmse_result = wilcoxon_signed_rank_test(baseline_rmse, item[1], 'rmse')\n",
    "    mannwhitneyu_rmse_result = mannwhitneyu_test(baseline_rmse, item[1], 'rmse')\n",
    "\n",
    "    test_results['RMSE Wilcoxon'].append(['Prices', key, wilcoxon_rmse_result])\n",
    "    test_results['RMSE Mann-Whitney'].append(['Prices', key, mannwhitneyu_rmse_result])"
   ]
  },
  {
   "cell_type": "code",
   "execution_count": null,
   "metadata": {
    "colab": {
     "base_uri": "https://localhost:8080/"
    },
    "executionInfo": {
     "elapsed": 15,
     "status": "ok",
     "timestamp": 1685276624785,
     "user": {
      "displayName": "Danish Madhavan",
      "userId": "00345186342487666241"
     },
     "user_tz": -180
    },
    "id": "rTesO4p7sDmh",
    "outputId": "5fb5d00d-2b5f-4151-8da3-7e0bcc9ae868"
   },
   "outputs": [],
   "source": [
    "#test for MAE values\n",
    "\n",
    "\n",
    "baseline_rmse = model_results['Prices'][2]\n",
    "for key, item in model_results.items():\n",
    "  if key != 'Prices':\n",
    "    wilcoxon_rmse_result = wilcoxon_signed_rank_test(baseline_rmse, item[2], 'mae')\n",
    "    mannwhitneyu_rmse_result = mannwhitneyu_test(baseline_rmse, item[2], 'mae')\n",
    "    \n",
    "    test_results['RMSE Wilcoxon'].append(['Prices', key, wilcoxon_rmse_result])\n",
    "    test_results['RMSE Mann-Whitney'].append(['Prices', key, mannwhitneyu_rmse_result])"
   ]
  },
  {
   "cell_type": "code",
   "execution_count": null,
   "metadata": {
    "colab": {
     "base_uri": "https://localhost:8080/"
    },
    "executionInfo": {
     "elapsed": 20,
     "status": "ok",
     "timestamp": 1685276645539,
     "user": {
      "displayName": "Danish Madhavan",
      "userId": "00345186342487666241"
     },
     "user_tz": -180
    },
    "id": "F2gMESijsIIa",
    "outputId": "18d168bb-6bc5-4b2d-ab4b-de4d822911d2"
   },
   "outputs": [],
   "source": [
    "#test for accuracy values\n",
    "\n",
    "\n",
    "baseline_rmse = model_results['Prices'][3]\n",
    "for key, item in model_results.items():\n",
    "  if key != 'Prices':\n",
    "    wilcoxon_rmse_result = wilcoxon_signed_rank_test(baseline_rmse, item[3], 'accuracy')\n",
    "    mannwhitneyu_rmse_result = mannwhitneyu_test(baseline_rmse, item[3], 'accuracy')\n",
    "    \n",
    "    test_results['RMSE Wilcoxon'].append(['Prices', key, wilcoxon_rmse_result])\n",
    "    test_results['RMSE Mann-Whitney'].append(['Prices', key, mannwhitneyu_rmse_result])"
   ]
  },
  {
   "cell_type": "code",
   "execution_count": null,
   "metadata": {
    "executionInfo": {
     "elapsed": 7,
     "status": "ok",
     "timestamp": 1685276649650,
     "user": {
      "displayName": "Danish Madhavan",
      "userId": "00345186342487666241"
     },
     "user_tz": -180
    },
    "id": "_EZLObVxtC6w"
   },
   "outputs": [],
   "source": [
    "with open('/content/drive/My Drive/thesis/notebooks/TESLA/model results/tesla lstm test results.json', \"w\") as file:\n",
    "    json.dump(test_results, file)"
   ]
  },
  {
   "cell_type": "code",
   "execution_count": null,
   "metadata": {
    "colab": {
     "background_save": true
    },
    "id": "UkodvIc0FGD6"
   },
   "outputs": [],
   "source": []
  }
 ],
 "metadata": {
  "colab": {
   "authorship_tag": "ABX9TyMAAc4MNnKZrwjGs7HUdUXp",
   "provenance": [
    {
     "file_id": "1xmWuPhFxG9tTzobjkg2cJNGXVeKCvyCP",
     "timestamp": 1685031708639
    }
   ]
  },
  "kernelspec": {
   "display_name": "Python 3 (ipykernel)",
   "language": "python",
   "name": "python3"
  },
  "language_info": {
   "codemirror_mode": {
    "name": "ipython",
    "version": 3
   },
   "file_extension": ".py",
   "mimetype": "text/x-python",
   "name": "python",
   "nbconvert_exporter": "python",
   "pygments_lexer": "ipython3",
   "version": "3.10.9"
  }
 },
 "nbformat": 4,
 "nbformat_minor": 1
}
