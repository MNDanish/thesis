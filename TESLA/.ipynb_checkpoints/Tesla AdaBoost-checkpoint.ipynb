{
 "cells": [
  {
   "cell_type": "code",
   "execution_count": 1,
   "metadata": {
    "id": "CWIgsSrpCbEK"
   },
   "outputs": [],
   "source": [
    "import pandas as pd\n",
    "import numpy as np\n",
    "import yfinance as yf\n",
    "import math\n",
    "import json\n",
    "from sklearn.model_selection import train_test_split, GridSearchCV\n",
    "from datetime import datetime\n",
    "from sklearn.metrics import mean_squared_error, mean_absolute_error\n",
    "from scipy.stats import wilcoxon, mannwhitneyu\n",
    "from sklearn.ensemble import AdaBoostRegressor"
   ]
  },
  {
   "cell_type": "code",
   "execution_count": null,
   "metadata": {
    "colab": {
     "base_uri": "https://localhost:8080/"
    },
    "executionInfo": {
     "elapsed": 19422,
     "status": "ok",
     "timestamp": 1685276982732,
     "user": {
      "displayName": "Danish Madhavan",
      "userId": "00345186342487666241"
     },
     "user_tz": -180
    },
    "id": "ExU_mpEYCdVt",
    "outputId": "d8ecf72c-0b41-43d2-9efb-baf5eb0f2f80"
   },
   "outputs": [
    {
     "name": "stdout",
     "output_type": "stream",
     "text": [
      "Mounted at /content/drive\n"
     ]
    }
   ],
   "source": [
    "from google.colab import drive\n",
    "drive.mount('/content/drive')"
   ]
  },
  {
   "cell_type": "code",
   "execution_count": null,
   "metadata": {
    "id": "u0fSJGt9DEez"
   },
   "outputs": [],
   "source": [
    "df_tweets = pd.read_csv('/content/drive/My Drive/thesis/datasets/twitter comments/tweets_sentiment.csv')\n",
    "df_news = pd.read_csv('/content/drive/My Drive/thesis/datasets/news articles/news_sentiment_updated2.csv')\n",
    "df_political_news = pd.read_csv('/content/drive/My Drive/thesis/datasets/news articles/political_news_sentiment.csv')"
   ]
  },
  {
   "cell_type": "code",
   "execution_count": null,
   "metadata": {
    "id": "li_KLVTgDX2p"
   },
   "outputs": [],
   "source": [
    "company_ticker = 'TSLA'\n",
    "df_tweets.drop(columns='body', inplace=True)\n",
    "df_tweets = df_tweets[df_tweets['ticker_symbol'] == company_ticker].reset_index(drop=True)\n",
    "df_news = df_news[df_news['Company'] == 'Tesla'].reset_index(drop=True)"
   ]
  },
  {
   "cell_type": "code",
   "execution_count": null,
   "metadata": {
    "id": "hvkD3MNGDdNM"
   },
   "outputs": [],
   "source": [
    "dates = df_tweets['date'].unique()\n",
    "avg_sentiment = []\n",
    "tweets_volume = []\n",
    "\n",
    "for date in dates:\n",
    "    temp = df_tweets[df_tweets['date'] == date]\n",
    "    avg_sentiment.append(temp['sentiment_score'].mean())\n",
    "    tweets_volume.append(len(temp))\n",
    "  \n",
    "df_tweet_scores = pd.DataFrame({'Date':dates, 'Avg_sentiment_tweets':avg_sentiment, '# tweets' : tweets_volume})"
   ]
  },
  {
   "cell_type": "code",
   "execution_count": null,
   "metadata": {
    "id": "VASwyr7wDfry"
   },
   "outputs": [],
   "source": [
    "df_news['Sentiment'] = df_news['Sentiment'].map({'positive': 1, 'neutral': 0, 'negative': -1})\n",
    "\n",
    "dates = df_news['Date'].unique()\n",
    "avg_sentiment = []\n",
    "pos_count = []\n",
    "neu_count = []\n",
    "neg_count = []\n",
    "\n",
    "\n",
    "for date in dates:\n",
    "    temp = df_news[df_news['Date'] == date]\n",
    "    avg_sentiment.append(temp['Sentiment'].mean())\n",
    "    pos_count.append(len(temp[temp['Sentiment'] == 1]))\n",
    "    neu_count.append(len(temp[temp['Sentiment'] == 0]))\n",
    "    neg_count.append(len(temp[temp['Sentiment'] == -1]))\n",
    "\n",
    "df_news_scores = pd.DataFrame({'Date':dates, 'Avg_sentiment_news':avg_sentiment, '# Positive news' : pos_count, \n",
    "                               '# Neutral news' : neu_count, '# Negative news' : neg_count})"
   ]
  },
  {
   "cell_type": "code",
   "execution_count": null,
   "metadata": {
    "id": "_eeThvDTDgqe"
   },
   "outputs": [],
   "source": [
    "df_political_news['Sentiment'] = df_political_news['Sentiment'].map({'Positive': 1, 'Neutral': 0, 'Negative': -1})\n",
    "\n",
    "dates = df_political_news['Date'].unique()\n",
    "avg_sentiment = []\n",
    "pos_count = []\n",
    "neu_count = []\n",
    "neg_count = []\n",
    "\n",
    "\n",
    "for date in dates:\n",
    "    temp = df_political_news[df_political_news['Date'] == date]\n",
    "    avg_sentiment.append(temp['Sentiment'].mean())\n",
    "    pos_count.append(len(temp[temp['Sentiment'] == 1]))\n",
    "    neu_count.append(len(temp[temp['Sentiment'] == 0]))\n",
    "    neg_count.append(len(temp[temp['Sentiment'] == -1]))\n",
    "\n",
    "df_political_news_scores = pd.DataFrame({'Date':dates, 'Avg_sentiment_polit_news':avg_sentiment, '# Positive polit_news' : pos_count, \n",
    "                               '# Neutral polit_news' : neu_count, '# Negative polit_news' : neg_count})"
   ]
  },
  {
   "cell_type": "code",
   "execution_count": null,
   "metadata": {
    "id": "LkitxasoDh-D"
   },
   "outputs": [],
   "source": [
    "stock = yf.Ticker(company_ticker)\n",
    "\n",
    "start = min(df_tweet_scores['Date'])\n",
    "end = max(df_tweet_scores['Date'])\n",
    "\n",
    "df = stock.history(start=pd.to_datetime(start).date(), end=pd.to_datetime(end).date())"
   ]
  },
  {
   "cell_type": "code",
   "execution_count": null,
   "metadata": {
    "id": "qgcMlcGqDjQm"
   },
   "outputs": [],
   "source": [
    "df = df.reset_index()[['Date', 'Close']]\n",
    "df['Date'] = df['Date'].apply(lambda x: datetime.strftime(pd.to_datetime(x), '%Y-%m-%d'))\n",
    "\n",
    "df = pd.merge(df,df_tweet_scores,on='Date',how='inner')\n",
    "df = pd.merge(df,df_news_scores,on='Date',how='inner')\n",
    "df = pd.merge(df,df_political_news_scores,on='Date',how='left')"
   ]
  },
  {
   "cell_type": "code",
   "execution_count": null,
   "metadata": {
    "colab": {
     "base_uri": "https://localhost:8080/"
    },
    "executionInfo": {
     "elapsed": 15,
     "status": "ok",
     "timestamp": 1685105127626,
     "user": {
      "displayName": "Danish Madhavan",
      "userId": "00345186342487666241"
     },
     "user_tz": -180
    },
    "id": "nS9lT1tuDkca",
    "outputId": "f5c01896-aa53-49bd-a287-84b7263ba799"
   },
   "outputs": [
    {
     "name": "stderr",
     "output_type": "stream",
     "text": [
      "<ipython-input-10-bf934754a5b1>:1: FutureWarning: The default value of numeric_only in DataFrame.mean is deprecated. In a future version, it will default to False. In addition, specifying 'numeric_only=None' is deprecated. Select only valid columns or specify the value of numeric_only to silence this warning.\n",
      "  df.fillna(df.mean(), inplace=True)\n"
     ]
    }
   ],
   "source": [
    "df.fillna(df.mean(), inplace=True)"
   ]
  },
  {
   "cell_type": "code",
   "execution_count": null,
   "metadata": {
    "id": "Xe8ibHLWDlbM"
   },
   "outputs": [],
   "source": [
    "def train_test_data(feature_vector):\n",
    "    data = df[feature_vector].copy()\n",
    "    data['Close Previous'] = data['Close'].shift(1)\n",
    "\n",
    "    for column in data.columns:\n",
    "        if column != 'Close' and column != 'Close Previous':\n",
    "            data[column] = data[column].shift(1)\n",
    "\n",
    "    data.dropna(inplace=True)\n",
    "    X = data.drop(columns='Close').copy()\n",
    "    y = data[['Close']].copy()\n",
    "\n",
    "    X_train, X_test, y_train, y_test = train_test_split(X, y, test_size=0.2, random_state=42, shuffle=False)\n",
    "\n",
    "    return X_train, X_test, y_train, y_test"
   ]
  },
  {
   "cell_type": "code",
   "execution_count": null,
   "metadata": {
    "id": "aSaHA7CDH70d"
   },
   "outputs": [],
   "source": [
    "def create_model(X_train, y_train):\n",
    "  model = AdaBoostRegressor()\n",
    "  model.fit(X_train, y_train.values.ravel())\n",
    "  return model"
   ]
  },
  {
   "cell_type": "code",
   "execution_count": 2,
   "metadata": {
    "id": "h5MlWgR9p47j"
   },
   "outputs": [],
   "source": [
    "#Wilcoxon Signed Rank Test\n",
    "\n",
    "def wilcoxon_signed_rank_test(arr1, arr2, metric):\n",
    "  if metric != 'accuracy':\n",
    "    statistic, p_value = wilcoxon(arr1, arr2, alternative='greater')\n",
    "  else:\n",
    "    statistic, p_value = wilcoxon(arr1, arr2, alternative='less')\n",
    "  alpha = 0.05\n",
    "  if p_value < alpha:\n",
    "    return False #there is a difference\n",
    "  return True #no difference"
   ]
  },
  {
   "cell_type": "code",
   "execution_count": 3,
   "metadata": {
    "id": "ubl1Sgpcp_DZ"
   },
   "outputs": [],
   "source": [
    "#Mann-Whitney U test\n",
    "\n",
    "def mannwhitneyu_test(arr1, arr2, metric):\n",
    "  if metric != 'accuracy':\n",
    "    statistic, p_value = mannwhitneyu(arr1, arr2, alternative='greater')\n",
    "  else:\n",
    "    statistic, p_value = mannwhitneyu(arr1, arr2, alternative='less')\n",
    "  alpha = 0.05\n",
    "  if p_value < alpha:\n",
    "    return False #there is a difference\n",
    "  return True #no difference"
   ]
  },
  {
   "cell_type": "code",
   "execution_count": null,
   "metadata": {
    "id": "BBbeJ-_PJT2s"
   },
   "outputs": [],
   "source": [
    "def make_predictions(X_test, y_test, model):\n",
    "  y_test = y_test.to_numpy()\n",
    "  y_pred = model.predict(X_test)\n",
    "\n",
    "  test_rmse = math.sqrt(mean_squared_error(y_test,y_pred))\n",
    "  test_mae = mean_absolute_error(y_test,y_pred) \n",
    "\n",
    "  y_pred_diff = [y_pred[i] - y_pred[i-1] for i in range(1, len(y_pred))]\n",
    "  y_test_diff = [y_test[i] - y_test[i-1] for i in range(1, len(y_test))]\n",
    "\n",
    "  y_pred_movement = [1 if diff > 0 else 0 for diff in y_pred_diff]\n",
    "  y_test_movement = [1 if diff > 0 else 0 for diff in y_test_diff]\n",
    "\n",
    "  accuracy = sum([1 for pred, actual in zip(y_pred_movement, y_test_movement) if pred == actual]) / len(y_test_movement)\n",
    "\n",
    "  return test_rmse, test_mae, accuracy, y_pred"
   ]
  },
  {
   "cell_type": "code",
   "execution_count": 4,
   "metadata": {
    "id": "GbE-XEbnHfsp"
   },
   "outputs": [],
   "source": [
    "model_results = {\n",
    "    'Prices' : [['Close'], [], [], []],\n",
    "    'Prices + Tweets' : [['Close', 'Avg_sentiment_tweets'], [], [], []],\n",
    "    'Prices + News' : [['Close', 'Avg_sentiment_news', '# Positive news', '# Neutral news', '# Negative news'], [], [], []],\n",
    "    'Prices + Political News' : [['Close', 'Avg_sentiment_polit_news', '# Positive polit_news', '# Neutral polit_news', '# Negative polit_news'], [], [], []],\n",
    "    'Prices + Tweets + News' : [['Close', 'Avg_sentiment_tweets', 'Avg_sentiment_news', '# Positive news', '# Neutral news', '# Negative news'], [], [], []],\n",
    "    'Prices + Tweets + Political News' : [['Close', 'Avg_sentiment_tweets', 'Avg_sentiment_polit_news', '# Positive polit_news', '# Neutral polit_news', '# Negative polit_news'], [], [], []],\n",
    "    'Prices + News + Political News' : [['Close', 'Avg_sentiment_news', '# Positive news', '# Neutral news', '# Negative news', 'Avg_sentiment_polit_news', '# Positive polit_news', '# Neutral polit_news', '# Negative polit_news'], [], [], []],\n",
    "    'Prices + Tweets + News + Political News' : [['Close', 'Avg_sentiment_tweets', 'Avg_sentiment_news', '# Positive news', '# Neutral news', '# Negative news', 'Avg_sentiment_polit_news', '# Positive polit_news', '# Neutral polit_news', '# Negative polit_news'], [], [], []]\n",
    "}"
   ]
  },
  {
   "cell_type": "code",
   "execution_count": 5,
   "metadata": {
    "id": "w2ECM0m-kpti"
   },
   "outputs": [],
   "source": [
    "test_results = {\n",
    "    'RMSE Wilcoxon' : [],\n",
    "    'MAE Wilcoxon' : [],\n",
    "    'Accuracy Wilcoxon' : [],\n",
    "    'RMSE Mann-Whitney' : [],\n",
    "    'MAE Mann-Whitney' : [],\n",
    "    'Accuracy Mann-Whitney' : []\n",
    "}"
   ]
  },
  {
   "cell_type": "code",
   "execution_count": null,
   "metadata": {
    "id": "9yEhSTi4lBnN"
   },
   "outputs": [],
   "source": [
    "for i in range(10):\n",
    "  for key, item in model_results.items():\n",
    "    feature_vector = model_results[key][0]\n",
    "    X_train, X_test, y_train, y_test = train_test_data(feature_vector)\n",
    "    model = create_model(X_train, y_train)\n",
    "    test_rmse, test_mae, accuracy, predicted_values = make_predictions(X_test, y_test, model)\n",
    "    model_results[key][1].append(round(test_rmse, 2))\n",
    "    model_results[key][2].append(round(test_mae, 2))\n",
    "    model_results[key][3].append(round(accuracy, 2))"
   ]
  },
  {
   "cell_type": "code",
   "execution_count": null,
   "metadata": {
    "id": "t9zH8BoyrCcP"
   },
   "outputs": [],
   "source": [
    "with open('/content/drive/My Drive/thesis/notebooks/TESLA/model results/tesla adaboost results.json', \"w\") as file:\n",
    "    json.dump(model_results, file)"
   ]
  },
  {
   "cell_type": "code",
   "execution_count": 8,
   "metadata": {
    "colab": {
     "base_uri": "https://localhost:8080/"
    },
    "executionInfo": {
     "elapsed": 654,
     "status": "ok",
     "timestamp": 1685277048807,
     "user": {
      "displayName": "Danish Madhavan",
      "userId": "00345186342487666241"
     },
     "user_tz": -180
    },
    "id": "Ao4CArdgpwoN",
    "outputId": "7c6caa7b-9602-4d95-807c-a864c6643b26"
   },
   "outputs": [],
   "source": [
    "#test for RMSE values\n",
    "\n",
    "\n",
    "baseline_rmse = model_results['Prices'][1]\n",
    "for key, item in model_results.items():\n",
    "  if key != 'Prices':\n",
    "    wilcoxon_rmse_result = wilcoxon_signed_rank_test(baseline_rmse, item[1], 'rmse')\n",
    "    mannwhitneyu_rmse_result = mannwhitneyu_test(baseline_rmse, item[1], 'rmse')\n",
    "\n",
    "    test_results['RMSE Wilcoxon'].append(['Prices', key, wilcoxon_rmse_result])\n",
    "    test_results['RMSE Mann-Whitney'].append(['Prices', key, mannwhitneyu_rmse_result])"
   ]
  },
  {
   "cell_type": "code",
   "execution_count": 9,
   "metadata": {
    "colab": {
     "base_uri": "https://localhost:8080/"
    },
    "executionInfo": {
     "elapsed": 12,
     "status": "ok",
     "timestamp": 1685277055779,
     "user": {
      "displayName": "Danish Madhavan",
      "userId": "00345186342487666241"
     },
     "user_tz": -180
    },
    "id": "el52EL2AJXMM",
    "outputId": "322cc928-7247-4e37-95e0-691a0e965282"
   },
   "outputs": [],
   "source": [
    "#test for MAE values\n",
    "\n",
    "\n",
    "baseline_rmse = model_results['Prices'][2]\n",
    "for key, item in model_results.items():\n",
    "  if key != 'Prices':\n",
    "    wilcoxon_rmse_result = wilcoxon_signed_rank_test(baseline_rmse, item[2], 'mae')\n",
    "    mannwhitneyu_rmse_result = mannwhitneyu_test(baseline_rmse, item[2], 'mae')\n",
    "\n",
    "    test_results['RMSE Wilcoxon'].append(['Prices', key, wilcoxon_rmse_result])\n",
    "    test_results['RMSE Mann-Whitney'].append(['Prices', key, mannwhitneyu_rmse_result])"
   ]
  },
  {
   "cell_type": "code",
   "execution_count": 10,
   "metadata": {
    "colab": {
     "base_uri": "https://localhost:8080/"
    },
    "executionInfo": {
     "elapsed": 16,
     "status": "ok",
     "timestamp": 1685277064426,
     "user": {
      "displayName": "Danish Madhavan",
      "userId": "00345186342487666241"
     },
     "user_tz": -180
    },
    "id": "ibmXA0eYq7-Y",
    "outputId": "44ea97d6-43f5-4b65-cf6f-a398095ca532"
   },
   "outputs": [],
   "source": [
    "#test for accuracy values\n",
    "\n",
    "\n",
    "baseline_rmse = model_results['Prices'][3]\n",
    "for key, item in model_results.items():\n",
    "  if key != 'Prices':\n",
    "    wilcoxon_rmse_result = wilcoxon_signed_rank_test(baseline_rmse, item[3], 'accuracy')\n",
    "    mannwhitneyu_rmse_result = mannwhitneyu_test(baseline_rmse, item[3], 'accuracy')\n",
    "    \n",
    "    test_results['RMSE Wilcoxon'].append(['Prices', key, wilcoxon_rmse_result])\n",
    "    test_results['RMSE Mann-Whitney'].append(['Prices', key, mannwhitneyu_rmse_result])"
   ]
  },
  {
   "cell_type": "code",
   "execution_count": null,
   "metadata": {
    "id": "L_xFCiEAq95X"
   },
   "outputs": [],
   "source": [
    "with open('/content/drive/My Drive/thesis/notebooks/TESLA/model results/tesla adaboost test results.json', \"w\") as file:\n",
    "    json.dump(test_results, file)"
   ]
  },
  {
   "cell_type": "code",
   "execution_count": null,
   "metadata": {
    "id": "O3p06IRZrkyx"
   },
   "outputs": [],
   "source": []
  }
 ],
 "metadata": {
  "colab": {
   "authorship_tag": "ABX9TyMXIqZIMykVrqakh+gmcHW4",
   "provenance": []
  },
  "kernelspec": {
   "display_name": "Python 3 (ipykernel)",
   "language": "python",
   "name": "python3"
  },
  "language_info": {
   "codemirror_mode": {
    "name": "ipython",
    "version": 3
   },
   "file_extension": ".py",
   "mimetype": "text/x-python",
   "name": "python",
   "nbconvert_exporter": "python",
   "pygments_lexer": "ipython3",
   "version": "3.10.9"
  }
 },
 "nbformat": 4,
 "nbformat_minor": 1
}
